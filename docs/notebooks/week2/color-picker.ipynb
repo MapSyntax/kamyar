{
 "cells": [
  {
   "cell_type": "markdown",
   "id": "f40ba54c-3dca-4cbe-b36c-053fcd9f0e3d",
   "metadata": {},
   "source": [
    "# Digital color systems\n",
    "\n",
    "<div style=\"background-color: #fff3cd; padding: 20px; border-left: 5px solid #ffc107; margin-bottom: 20px;\">\n",
    "\n",
    "**Interactive Content Ahead!**\n",
    "\n",
    "This page features interactive content that do not work optimally within the course's static website. To fully engage with these materials, consider accessing them through environments like CSC/JupyterLab. If you're viewing this page on the course's website and wish to load the interactive elements, please use Binder. Look for the Binder icon—a small rocket logo—at the top of the page to get started.\n",
    "\n",
    "</div>\n",
    "\n",
    "\n",
    "- Digital, interactive maps commonly use a hexadecimal (HEX) system for defining colors but can have other options as well.\n",
    "- Paper maps use any of several other color definition systems.\n",
    "- Most GIS software will give you multiple options for defining any custom colors you use. Some of the options that your GIS (or graphic design software) may give you are red, green, blue (RGB); hexadecimal; hue, saturation, value (HSV); cyan, magenta, yellow, black (CMYK); and International Commission on Illumination Lightness a\\* b\\* (CIELAB).\n",
    "- There is an interactive [color picker tool](#color-picker) at the end of this page (you can also try [Google color picker](https://g.co/kgs/SSde1u)\n",
    "\n",
    "### RGB COLOR MODEL\n",
    "\n",
    "- **RGB** stands for Red, Green, Blue\n",
    "- Used in electronic devices like monitors and TVs\n",
    "- Creates colors by mixing light\n",
    "- Colors defined by RGB values from 0 to 255\n",
    "- Example: Full red is 255, 0, 0\n",
    "\n",
    "\n",
    "### HEXADECIMAL IN RGB\n",
    "\n",
    "- Hexadecimal codes represent RGB values\n",
    "- Consists of numbers 0-9 and letters A-F\n",
    "- Starts with a \"#\" in HTML/CSS\n",
    "- Example: `#FF0000` is full red\n",
    "\n",
    "### CMYK COLOR MODEL\n",
    "\n",
    "- **CMYK** stands for Cyan, Magenta, Yellow, Black\n",
    "- Used in printing\n",
    "- Works by subtracting light from white paper\n",
    "- Colors are percentages of each ink used\n",
    "\n",
    "### HSL AND HSV COLOR MODELS\n",
    "\n",
    "- **HSL**: Hue, Saturation, Lightness\n",
    "- **HSV**: Hue, Saturation, Value\n",
    "- Used to select colors with more perceptual uniformity\n",
    "- Example in HSL: Hue at 100 with full saturation and lightness gives pure green\n",
    "\n",
    "### CIELAB COLOR MODEL\n",
    "\n",
    "- **CIELAB** is designed to encompass all colors visible to the human eye\n",
    "- Uses L\\* for lightness and a\\* b\\* for the color spectrums\n",
    "- More uniform than RGB and CMYK"
   ]
  },
  {
   "cell_type": "markdown",
   "id": "f4a8dd73-fad6-41af-83c5-3727fcc4058f",
   "metadata": {},
   "source": [
    "# <a id=\"color-picker\"></a>Color picker tool\n",
    "\n",
    "You can use this interactive tool to pick colors from a palette and get the corresponding hexadecimal, RGB, CMYK, HSL, and HSV color format codes. "
   ]
  },
  {
   "cell_type": "code",
   "execution_count": 1,
   "id": "0b021df2-0619-431a-bf71-77aeaf345019",
   "metadata": {},
   "outputs": [
    {
     "data": {
      "application/vnd.jupyter.widget-view+json": {
       "model_id": "5b70157f4c274e06b68e694b196e6450",
       "version_major": 2,
       "version_minor": 0
      },
      "text/plain": [
       "interactive(children=(ColorPicker(value='#ff0000', description='Pick a color', style=DescriptionStyle(descript…"
      ]
     },
     "metadata": {},
     "output_type": "display_data"
    },
    {
     "data": {
      "text/plain": [
       "<function __main__.display_color_info(hex_color)>"
      ]
     },
     "execution_count": 1,
     "metadata": {},
     "output_type": "execute_result"
    }
   ],
   "source": [
    "import matplotlib.pyplot as plt\n",
    "import matplotlib.colors as mcolors\n",
    "from ipywidgets import interact, ColorPicker\n",
    "\n",
    "def display_color_info(hex_color):\n",
    "    # Convert hex to RGB\n",
    "    rgb_color = mcolors.hex2color(hex_color)\n",
    "    # Normalize RGB values to 0-255 scale\n",
    "    rgb_color_255 = tuple([int(255*x) for x in rgb_color])\n",
    "    # Convert RGB to CMYK\n",
    "    cmyk_color = [0, 0, 0, 255]\n",
    "    if sum(rgb_color_255) < 765:\n",
    "        cmyk_color = [round(255 - x) for x in rgb_color_255]\n",
    "        k = min(cmyk_color)\n",
    "        cmyk_color = [round((255 - x - k) / (255 - k) * 100) for x in rgb_color_255] + [round(k / 255 * 100)]\n",
    "    # Convert RGB to HSV and HSL\n",
    "    hsv_color = mcolors.rgb_to_hsv(rgb_color)\n",
    "    hsl_color = mcolors.rgb_to_hsv([(x + min(rgb_color_255)) / 2 for x in rgb_color])\n",
    "\n",
    "    # Display the color values\n",
    "    print(f\"HEX: {hex_color}\")\n",
    "    print(f\"RGB: {rgb_color_255}\")\n",
    "    print(f\"CMYK: {cmyk_color}\")\n",
    "    print(f\"HSV: {tuple(round(x, 2) for x in hsv_color)}\")\n",
    "    print(f\"HSL: {tuple(round(x, 2) for x in hsl_color)}\")\n",
    "\n",
    "    # Plot the color\n",
    "    plt.figure(figsize=(2,2))\n",
    "    plt.axis('off')\n",
    "    plt.imshow([[rgb_color]])\n",
    "    plt.show()\n",
    "\n",
    "# Create color picker widget\n",
    "color_picker = ColorPicker(\n",
    "    concise=False,\n",
    "    description='Pick a color',\n",
    "    value='#ff0000',\n",
    "    style={'description_width': 'initial'}\n",
    ")\n",
    "\n",
    "# Bind the color picker to display_color_info function\n",
    "interact(display_color_info, hex_color=color_picker)\n"
   ]
  },
  {
   "cell_type": "code",
   "execution_count": null,
   "id": "7cbee545-64ae-4d2d-93f4-5f1778c2d913",
   "metadata": {},
   "outputs": [],
   "source": []
  }
 ],
 "metadata": {
  "kernelspec": {
   "display_name": "Python 3 (ipykernel)",
   "language": "python",
   "name": "python3"
  },
  "language_info": {
   "codemirror_mode": {
    "name": "ipython",
    "version": 3
   },
   "file_extension": ".py",
   "mimetype": "text/x-python",
   "name": "python",
   "nbconvert_exporter": "python",
   "pygments_lexer": "ipython3",
   "version": "3.11.7"
  }
 },
 "nbformat": 4,
 "nbformat_minor": 5
}
