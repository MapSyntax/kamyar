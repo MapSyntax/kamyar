{
 "cells": [
  {
   "cell_type": "markdown",
   "id": "ca46349b-d336-4a64-95c1-8abe2728726c",
   "metadata": {
    "editable": true,
    "slideshow": {
     "slide_type": ""
    },
    "tags": []
   },
   "source": [
    "# Color schemes\n",
    "\n",
    "<div style=\"background-color: #fff3cd; padding: 20px; border-left: 5px solid #ffc107; margin-bottom: 20px;\">\n",
    "\n",
    "**Interactive Content Ahead!** 🚨\n",
    "\n",
    "This page features interactive content that do not work within the course's static website. To fully engage with these materials, consider accessing them through environments like CSC/JupyterLab. If you're viewing this page on the course's website and wish to load the interactive elements, please use Binder. Look for the Binder icon—a small rocket logo—at the top of the page to get started.\n",
    "\n",
    "</div>\n",
    "\n",
    "\n",
    "Let's compare the color schemes and discuss around the following aspects:\n",
    "\n",
    "- **Data Suitability**: How well does the color scheme convey the nature of the data? Is it sequential, diverging, or qualitative?\n",
    "- **Visual Perception**: Does the color scheme offer a perceptually uniform progression, making it easy to interpret changes in data values?\n",
    "- **Accessibility**: How accessible is the color scheme for people with color vision deficiencies?\n",
    "- **Emotional Impact**: Do certain colors evoke specific emotions or cultural associations that could influence the interpretation of the data?"
   ]
  },
  {
   "cell_type": "code",
   "execution_count": 4,
   "id": "4d2746fa-38dc-4a04-89cd-a0d205eac8ba",
   "metadata": {
    "editable": true,
    "slideshow": {
     "slide_type": ""
    },
    "tags": []
   },
   "outputs": [
    {
     "data": {
      "application/vnd.jupyter.widget-view+json": {
       "model_id": "7ce630d740dc4679bd949b36ff6fc035",
       "version_major": 2,
       "version_minor": 0
      },
      "text/plain": [
       "Dropdown(description='Color Scheme:', options=('viridis', 'plasma', 'inferno', 'magma', 'cividis', 'coolwarm',…"
      ]
     },
     "metadata": {},
     "output_type": "display_data"
    },
    {
     "data": {
      "application/vnd.jupyter.widget-view+json": {
       "model_id": "9d105ccff2564eb5810da75e74a6e1a4",
       "version_major": 2,
       "version_minor": 0
      },
      "text/plain": [
       "Output()"
      ]
     },
     "metadata": {},
     "output_type": "display_data"
    }
   ],
   "source": [
    "import geopandas as gpd\n",
    "import matplotlib.pyplot as plt\n",
    "import ipywidgets as widgets\n",
    "from IPython.display import display, clear_output\n",
    "# Load the GeoPackage data\n",
    "data_path = 'data/helsinki_region_travel_times_to_railway_station.gpkg'\n",
    "gdf = gpd.read_file(data_path)\n",
    "gdf = gdf[gdf['pt_r_t'] > 0]\n",
    "# Create the dropdown widget for color scheme selection\n",
    "color_dropdown = widgets.Dropdown(\n",
    "    options=['viridis', 'plasma', 'inferno', 'magma', 'cividis'],\n",
    "    value='viridis',\n",
    "    description='Color Scheme:',\n",
    ")\n",
    "\n",
    "# Create an output widget to manage the plot output\n",
    "color_dropdown = widgets.Dropdown(\n",
    "    options=[\n",
    "        'viridis', 'plasma', 'inferno', 'magma', 'cividis', \n",
    "        'coolwarm', 'Spectral', 'spring', 'summer', 'autumn', \n",
    "        'winter', 'Wistia', 'hot', 'afmhot', 'gist_heat', \n",
    "        'copper', 'PiYG', 'PRGn', 'BrBG', 'PuOr', \n",
    "        'RdGy', 'RdBu', 'RdYlBu', 'RdYlGn', 'Spectral', \n",
    "        'cool', 'rainbow', 'jet', 'hsv'\n",
    "    ],\n",
    "    value='viridis',\n",
    "    description='Color Scheme:',\n",
    ")\n",
    "\n",
    "# Create an output widget to manage the plot output\n",
    "plot_output = widgets.Output()\n",
    "\n",
    "def plot_map(color_scheme):\n",
    "    with plot_output:\n",
    "        clear_output(wait=True)  # Clear the previous plot\n",
    "        fig, ax = plt.subplots(figsize=(10, 10))\n",
    "        gdf.plot(column='pt_r_t', cmap=color_scheme, legend=True, ax=ax,  legend_kwds={\"label\": \"Travel time (min)\", \"location\":\"left\", \"shrink\": 0.5} )\n",
    "        plt.title(f'Helsinki Region Travel Times with \"{color_scheme}\" Color Scheme')\n",
    "        # Hide the axis labels\n",
    "        ax.set_xlabel('')\n",
    "        ax.set_ylabel('')\n",
    "        \n",
    "        # Hide the tick marks and labels on both axes\n",
    "        ax.tick_params(axis='both', which='both', length=0)\n",
    "        ax.set_xticklabels([])\n",
    "        ax.set_yticklabels([])\n",
    "        ax.xaxis.set_ticks_position('none') \n",
    "        ax.yaxis.set_ticks_position('none')\n",
    "        plt.show()\n",
    "\n",
    "def on_color_change(change):\n",
    "    plot_map(change.new)\n",
    "\n",
    "color_dropdown.observe(on_color_change, names='value')\n",
    "\n",
    "# Display the widgets\n",
    "display(color_dropdown, plot_output)"
   ]
  }
 ],
 "metadata": {
  "kernelspec": {
   "display_name": "Python 3 (ipykernel)",
   "language": "python",
   "name": "python3"
  },
  "language_info": {
   "codemirror_mode": {
    "name": "ipython",
    "version": 3
   },
   "file_extension": ".py",
   "mimetype": "text/x-python",
   "name": "python",
   "nbconvert_exporter": "python",
   "pygments_lexer": "ipython3",
   "version": "3.11.7"
  }
 },
 "nbformat": 4,
 "nbformat_minor": 5
}
