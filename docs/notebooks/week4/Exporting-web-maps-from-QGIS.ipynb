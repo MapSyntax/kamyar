{
 "cells": [
  {
   "cell_type": "markdown",
   "id": "164f808c-8e8d-4d23-8921-702dcc45534c",
   "metadata": {
    "editable": true,
    "slideshow": {
     "slide_type": ""
    },
    "tags": []
   },
   "source": [
    "# Exporting web maps from QGIS\n",
    "This short tutorial introduces *qgis2web*, a plugin for exporting your projects as OpenLayers or Leaflet -based web maps."
   ]
  },
  {
   "cell_type": "markdown",
   "id": "1f358171-2e23-46a1-aa95-dccecedf95ab",
   "metadata": {},
   "source": [
    "## Prerequisites"
   ]
  },
  {
   "cell_type": "markdown",
   "id": "5cf718fc-d4c4-465f-b4c4-428c955c1eb2",
   "metadata": {},
   "source": [
    "### Plugins\n",
    "- [qgis2web](https://plugins.qgis.org/plugins/qgis2web/): For exporting projects as web maps files.\n",
    "- [QuickMapServices](https://plugins.qgis.org/plugins/quick_map_services/): For adding base maps."
   ]
  },
  {
   "cell_type": "markdown",
   "id": "10ec7bca-083c-479d-aa8a-5036304fb29b",
   "metadata": {},
   "source": [
    "### Data\n",
    "One dataset is used in this tutorial. Download it from the link below or from the *data* folder:\n",
    "\n",
    "- [provinces_population_2023.gpkg](data/provinces_population_2023.gpkg). Population data in Finnish provinces (maakunta) by [Statistics Finland](https://stat.fi/org/avoindata/paikkatietoaineistot/vaesto_tilastointialueittain_en.html). Metadata on the variables is available [here](https://www.paikkatietohakemisto.fi/geonetwork/srv/eng/catalog.search#/metadata/d136a588-7fc6-4865-8d7c-b50d1398e728)."
   ]
  },
  {
   "cell_type": "markdown",
   "id": "b07a7c94-3bed-40e9-b8ae-13b2a73cc0c3",
   "metadata": {},
   "source": [
    "### QGIS files\n",
    "This notebook has one QGIS-style file.\n",
    "\n",
    "- [provinces_population_style.qml](QGIS-files/provinces_population_style.qml)\n",
    "- You can download all the files from [this link](QGIS-files/QGIS-files-week4.zip)."
   ]
  },
  {
   "cell_type": "markdown",
   "id": "3233ee7e-cf55-4f33-8800-071808814f7e",
   "metadata": {},
   "source": [
    "## Exporting a web map"
   ]
  },
  {
   "cell_type": "markdown",
   "id": "3697e176-2bf8-4135-ab36-d47ca744325b",
   "metadata": {},
   "source": [
    "### Creating a project\n",
    "The guiding principle in *qgis2web* is to **make everything as ready as possible** in terms of symbology, colors, labels etc. within QGIS and then export it.\n",
    "\n",
    "We'll try out qgis2web with a very simple choropleth map."
   ]
  },
  {
   "cell_type": "markdown",
   "id": "e02da4f7-a50c-4d56-b503-c9223078958c",
   "metadata": {},
   "source": [
    "<div style=\"background-color: #66f2ff; padding: 10px; border-left: 5px solid #00a4b3; margin-bottom: 10px;\">\n",
    "    \n",
    "1. Import *provinces_population_2023.gpkg* and explore the data.\n",
    "  - Apply a graduated style on field *ika_65_p* (% proportion of population over the age of 65).\n",
    "    - **Rename the layer** *Proportion of population over 65*\n",
    "  - Add labels using the field *Name*\n",
    "    - Enable text buffer.\n",
    "2. Add a background map from *Web > QuickMapservices*. For example *OSM > OSM Standard*.\n",
    "    \n",
    "</div>"
   ]
  },
  {
   "cell_type": "markdown",
   "id": "80205d95-2c71-4dec-85ba-21beeecdc303",
   "metadata": {},
   "source": [
    "Your map should look a bit like this."
   ]
  },
  {
   "cell_type": "markdown",
   "id": "5ac6b0c3-c40b-4ab8-8643-97aac20bb249",
   "metadata": {},
   "source": [
    "<div style=\"background-color: #39f98f; padding: 10px; border-left: 5px solid #059445; margin-bottom: 10px;\">\n",
    "The provinces layer uses the style:\n",
    "    \n",
    "- *provinces_population_style.qml*\n",
    "    \n",
    "</div>"
   ]
  },
  {
   "cell_type": "markdown",
   "id": "c823a33b-5b57-4865-8164-f25467ded7e6",
   "metadata": {},
   "source": [
    "![Provinces pop example](Figures/provinces_population_example.png)"
   ]
  },
  {
   "cell_type": "markdown",
   "id": "394694e3-7333-43b8-b403-1f68402c72a7",
   "metadata": {},
   "source": [
    "## Qgis2web "
   ]
  },
  {
   "cell_type": "markdown",
   "id": "4a402f7e-2588-409c-8b74-770b2edae545",
   "metadata": {},
   "source": [
    "### Map outlook"
   ]
  },
  {
   "cell_type": "markdown",
   "id": "30d0c99e-8bdd-4850-82f2-b10d1679c041",
   "metadata": {},
   "source": [
    "Next, let's start exporting our map-"
   ]
  },
  {
   "cell_type": "markdown",
   "id": "df1868da-c7f1-4d22-ae8c-0356a0b7211b",
   "metadata": {},
   "source": [
    "<div style=\"background-color: #66f2ff; padding: 10px; border-left: 5px solid #00a4b3; margin-bottom: 10px;\">\n",
    "    \n",
    "- Open the export dialog from *Web > qgis2web > Create web map*.\n",
    "- Look around the different tabs and options; there's a lot!\n",
    "    - **For documentation, look at the Wiki tab**\n",
    "- Then press *Update preview* at the bottom to see how the map will be rendered in the HTML version.\n",
    "    \n",
    "</div>"
   ]
  },
  {
   "cell_type": "markdown",
   "id": "1e02a60d-3464-4a60-9589-c66e3b761ce1",
   "metadata": {},
   "source": [
    "It's a pretty close match! Impressive, considering we're basically seeing a port to a completely different visualization system. \n",
    "\n",
    "Small oddities are visible, though. Notice how the text buffer is barely visible on the web version. To make it more useful, you may exaggerate it to, e.g., 3 mm on QGIS's layer symbology, then update the preview."
   ]
  },
  {
   "cell_type": "markdown",
   "id": "8b26b8d1-8cbc-4e09-aed5-bde4f1728428",
   "metadata": {},
   "source": [
    "### Layer options"
   ]
  },
  {
   "cell_type": "markdown",
   "id": "5b71d0b7-63fb-463c-aa2d-2783f3ac9859",
   "metadata": {},
   "source": [
    "The majority of options are related to which layers are included in the output, whether there's a pop-up and so forth.\n",
    "\n",
    "Let's set a few of these options."
   ]
  },
  {
   "cell_type": "markdown",
   "id": "e6796558-a403-40ea-8251-45e674ce387b",
   "metadata": {},
   "source": [
    "<div style=\"background-color: #66f2ff; padding: 10px; border-left: 5px solid #00a4b3; margin-bottom: 10px;\">\n",
    "    \n",
    "1. In the tab *Layers and groups* \n",
    "    - Start modifying *Popup field* visibility.\n",
    "        - Have the following fields set at *inline label - always visible*\n",
    "            - name\n",
    "            - vaesto\n",
    "            - vaesto_p\n",
    "            - ika_65_\n",
    "            - ika_65_p\n",
    "        - **Hint**: instead of clicking through every field, set features to all fields at once from the bottom of the screen.\n",
    "            - Set Al: *Popup fields to: hidden field*, then modify the ones you need to.\n",
    "2. In the tab Appearance\n",
    "    - Add layers list **Expanded**\n",
    "        - Select *ika_65_p* on the list (this will add a legend).\n",
    "    - Enable **Layer search** on provinces_population_2023:**name**\n",
    "    - Enable **Show popups on hover**.\n",
    "    - Enable **Match project crs**.\n",
    "    - Set zoom levels:\n",
    "        - Max: **10**\n",
    "        - Min: **6**\n",
    "</div>"
   ]
  },
  {
   "cell_type": "markdown",
   "id": "924e3479-b33e-440d-b6f4-ae9522ce0413",
   "metadata": {},
   "source": [
    "### Exporting\n",
    "We could keep fine-tuning, but let's move on to exporting."
   ]
  },
  {
   "cell_type": "markdown",
   "id": "10d31fea-65e4-42a8-9368-7af791cfbeb5",
   "metadata": {},
   "source": [
    "<div style=\"background-color: #66f2ff; padding: 10px; border-left: 5px solid #00a4b3; margin-bottom: 10px;\">\n",
    "    \n",
    "1. First select between *Openlayers* and *Leaflet* libraries on the bottom of the screen. Either should work, so you may keep the default option.\n",
    "2. On the *Export* tab:\n",
    "    - Select a suitable folder. Folder(s) with your web maps will be created in this location.\n",
    "3. **Export**.\n",
    "    \n",
    "</div>"
   ]
  },
  {
   "cell_type": "markdown",
   "id": "0ee0a4e0-6926-4c05-a545-f6457009759a",
   "metadata": {},
   "source": [
    "With that, you should have a folder that contains **everything** needed for the web map. You can open it locally from the *index.html* file.\n",
    "\n",
    "If you want to host it online, check out the instructions on the *publish-interactive-maps.ipynb* notebook.\n",
    "\n",
    "### [Check out the example map hosted on GitHub pages](https://tadusko.github.io/Stuff-hosted/carto-course-example-webmap/index.html)\n",
    "\n",
    "Notice that you will need the [whole folder qgis2web exported](https://github.com/Tadusko/Stuff-hosted/tree/master/docs/carto-course-example-webmap)."
   ]
  }
 ],
 "metadata": {
  "kernelspec": {
   "display_name": "Python 3 (ipykernel)",
   "language": "python",
   "name": "python3"
  },
  "language_info": {
   "codemirror_mode": {
    "name": "ipython",
    "version": 3
   },
   "file_extension": ".py",
   "mimetype": "text/x-python",
   "name": "python",
   "nbconvert_exporter": "python",
   "pygments_lexer": "ipython3",
   "version": "3.9.21"
  }
 },
 "nbformat": 4,
 "nbformat_minor": 5
}
