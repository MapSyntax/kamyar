{
 "cells": [
  {
   "cell_type": "markdown",
   "id": "a96deccd-692f-4a54-a471-1deb113a24da",
   "metadata": {},
   "source": [
    "# AI and other tools for Cartography"
   ]
  },
  {
   "cell_type": "markdown",
   "id": "217dc7c6-099b-49c6-a72d-19c0865ecd5c",
   "metadata": {},
   "source": [
    "Throughout this course and the tutorials, we've explored how to leverage Python code (or QGIS) to create maps. We're navigating through a rapidly evolving technological landscape, and cartography is no exception, undergoing continuous transformation with the advent of new tools and advancements in web technology. A pivotal recent development is the popularity of artificial intelligence (AI) and Large language models (LLM), which is just beginning to unveil its impact on the field of cartography.\n",
    "\n",
    "These innovations offer a multitude of benefits, including but not limited to:\n",
    "- Large language models, such as [ChatGPT](https://openai.com/chatgpt), aid in code generation and can significantly expedite our development process. However, it's essential to use these tools carefully and responsibly.(read more about use of such tool for puroducing code on [Geo-Python course pages](https://geo-python-site.readthedocs.io/en/latest/notebooks/L4/use-of-ai.html))\n",
    "- AI tools can assist with data preparation to a certain extent. While you, as the expert, ultimately oversee this process, these tools can be used responsibly to streamline some of the workflows.\n",
    "- Many enthusiasts are creating tools leveraging these technologies, which are sometimes made available for either free or commercial use. While in this course we learned how to develope our own tools for making maps and visulizations, using what already exists is efficient and recommended. \n",
    "- A wealth of algorithms from the realms of machine learning and AI are openly accessible, allowing the curious among us to integrate them into Python applications. In our specific context of Cartography, these algorithms can offer the potential to innovate and enhance cartographic processes make make our workflows smarter.\n",
    "\n",
    "Adopting these tools can expand our cartographic abilities and extend the boundaries of what can be achieved in mapping and spatial analysis. While this field warrants deeper investigation in the future, maybe by some of us, today, we sample a selection of tools to glimpse both the current state and the emerging possibilities.\n"
   ]
  },
  {
   "cell_type": "markdown",
   "id": "539530bd-ccc1-4706-b8f4-6f94c9f036d4",
   "metadata": {
    "editable": true,
    "slideshow": {
     "slide_type": ""
    },
    "tags": []
   },
   "source": [
    "**Animated heatmap with [location.foursquare](https://location.foursquare.com)**\n",
    "\n",
    "Creating an animated version of the wildfire heatmaps from our last tutorrial involves a series of analytical steps, given the lack of a direct Python library solution for this specific task. The process can be approached in various ways, but one effective method includes:\n",
    "\n",
    "- **Data Preparation**: Specifically, ensure the date field in your data is correctly formatted and ready for analysis.\n",
    "- **Modular Code Development**: Write code that can generate multiple heatmaps, each representing a different timeframe.\n",
    "- **Image Export**: Save these heatmaps as images, carefully naming them to reflect their sequence.\n",
    "- **GIF Creation**: Utilize a library such as [imageio](https://imageio.github.io/) to compile these static images into an animated GIF.\n",
    "\n",
    "This can be an interesting exercise. But a ready tool such as foursquare can also be used to create such an animation fairly easily."
   ]
  },
  {
   "cell_type": "markdown",
   "id": "d86e4662-a46d-4c52-9a2a-03b6255a498d",
   "metadata": {},
   "source": [
    "![Animated Heatmap](assets/fin_fires.gif)"
   ]
  },
  {
   "cell_type": "markdown",
   "id": "ed5b7611-c890-4cce-8c0b-fd0245bbeb5a",
   "metadata": {},
   "source": [
    "**A taste of AI in cartography with [aino.world](https://aino.world/)**\n",
    "\n",
    "As mentioned earlier, the integration of AI in Cartography is a new and relatively uncharted field. Nevertheless, tools like this one are emerging, providing a glimpse into the future possibilities of this domain. Even though we are in the early stages of their development, such tools offer a preview of the innovative directions cartography could take as AI becomes more intertwined with spatial analysis and map-making."
   ]
  },
  {
   "cell_type": "markdown",
   "id": "49e8b99f-addc-428c-ad61-e77b94ca2b25",
   "metadata": {
    "editable": true,
    "slideshow": {
     "slide_type": ""
    },
    "tags": [
     "nbsphinx-hide-input"
    ]
   },
   "source": [
    "![A screenshot of aino.world and the map generated using a prompt.](assets/aino.png)"
   ]
  },
  {
   "cell_type": "code",
   "execution_count": null,
   "id": "8f29bcfa-51bb-4774-bec1-71b256a8e4e1",
   "metadata": {},
   "outputs": [],
   "source": []
  }
 ],
 "metadata": {
  "kernelspec": {
   "display_name": "Python 3 (ipykernel)",
   "language": "python",
   "name": "python3"
  },
  "language_info": {
   "codemirror_mode": {
    "name": "ipython",
    "version": 3
   },
   "file_extension": ".py",
   "mimetype": "text/x-python",
   "name": "python",
   "nbconvert_exporter": "python",
   "pygments_lexer": "ipython3",
   "version": "3.11.7"
  }
 },
 "nbformat": 4,
 "nbformat_minor": 5
}
