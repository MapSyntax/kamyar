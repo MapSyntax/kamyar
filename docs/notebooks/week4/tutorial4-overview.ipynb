{
 "cells": [
  {
   "cell_type": "markdown",
   "id": "37653921-5015-42a2-a675-03552f153a3e",
   "metadata": {},
   "source": [
    "# Tutorial 4: overview\n",
    "\n",
    "Topics of this week's tutorial:\n",
    "\n",
    "- non-cartographic visualization of Geospatial data. (Plotly)\n",
    "- Interactive maps with Plotly and Folium\n",
    "- Combining cartographic and non-cartographic visualizations\n"
   ]
  },
  {
   "cell_type": "markdown",
   "id": "062d30fe-8ec9-4757-b978-67d92e92e57e",
   "metadata": {},
   "source": [
    "## Video recording\n",
    "\n",
    "Python version:\n",
    "\n",
    "<iframe width=\"560\" height=\"315\" src=\"https://www.youtube.com/embed/TJHnOoqbxcs?si=qyiu3ohgk-O689Ua\" title=\"YouTube video player\" frameborder=\"0\" allow=\"accelerometer; autoplay; clipboard-write; encrypted-media; gyroscope; picture-in-picture; web-share\" referrerpolicy=\"strict-origin-when-cross-origin\" allowfullscreen></iframe>\n",
    "\n",
    "QGIS version:\n",
    "\n",
    "<iframe width=\"560\" height=\"315\" src=\"https://www.youtube.com/embed/p9Be9LgHRwI?si=7ojRjNObT0I8Wpab\" title=\"YouTube video player\" frameborder=\"0\" allow=\"accelerometer; autoplay; clipboard-write; encrypted-media; gyroscope; picture-in-picture; web-share\" referrerpolicy=\"strict-origin-when-cross-origin\" allowfullscreen></iframe>"
   ]
  },
  {
   "cell_type": "markdown",
   "source": [],
   "metadata": {
    "collapsed": false
   },
   "id": "a7f8cf91cad8db45"
  },
  {
   "metadata": {},
   "cell_type": "code",
   "source": [],
   "id": "b0e8c4bab50d988d",
   "outputs": [],
   "execution_count": null
  }
 ],
 "metadata": {
  "kernelspec": {
   "display_name": "Python 3 (ipykernel)",
   "language": "python",
   "name": "python3"
  },
  "language_info": {
   "codemirror_mode": {
    "name": "ipython",
    "version": 3
   },
   "file_extension": ".py",
   "mimetype": "text/x-python",
   "name": "python",
   "nbconvert_exporter": "python",
   "pygments_lexer": "ipython3",
   "version": "3.11.7"
  }
 },
 "nbformat": 4,
 "nbformat_minor": 5
}
