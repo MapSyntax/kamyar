{
 "cells": [
  {
   "cell_type": "markdown",
   "id": "164f808c-8e8d-4d23-8921-702dcc45534c",
   "metadata": {
    "editable": true,
    "slideshow": {
     "slide_type": ""
    },
    "tags": []
   },
   "source": [
    "# Spatiotemporal data exploration and animated maps with QGIS\n",
    "In this week's tutorial, we'll delve into interactive data exploration within QGIS with plots and the temporal controller. By the end of this tutorial, you will have learned about how plots can be used to explore your datasets and added into your maps, as well as how to work with temporal data. Finally, we'll create and export an animation."
   ]
  },
  {
   "cell_type": "markdown",
   "id": "1f358171-2e23-46a1-aa95-dccecedf95ab",
   "metadata": {},
   "source": [
    "## Prerequisites"
   ]
  },
  {
   "cell_type": "markdown",
   "id": "5cf718fc-d4c4-465f-b4c4-428c955c1eb2",
   "metadata": {},
   "source": [
    "### Plugin\n",
    "- [DataPlotly](https://dataplotly-docs.readthedocs.io/en/latest/intro.html): Plugin for creating various interactive plots within QGIS. Uses [Plotly](https://plotly.com/) under the hood."
   ]
  },
  {
   "cell_type": "markdown",
   "id": "10ec7bca-083c-479d-aa8a-5036304fb29b",
   "metadata": {},
   "source": [
    "### Data\n",
    "Two datasets are used in this tutorial. Download them both from the links below or from the *data* folder:\n",
    "\n",
    "\n",
    "- [NASA's FIRMS remote sensing data on wild fires, limited to Finland [csv]](data/fire_data_for_map.csv)\n",
    "- [Corine industrial areas.](data/corine_industrial_areas.gpkg). Extract from [Corine Land Cover over Finland by the Finnish Environmental Institute (Syke)](https://luontotieto.syke.fi/aineisto/corine-maanpeite-2018/#metadata)."
   ]
  },
  {
   "cell_type": "markdown",
   "id": "b07a7c94-3bed-40e9-b8ae-13b2a73cc0c3",
   "metadata": {},
   "source": [
    "### QGIS files\n",
    "As always, there are several style files and a QGIS processing model file that runs the whole processing chain.\n",
    "\n",
    "- You can download all the files from [this link](QGIS-files/QGIS-files-week4.zip) or download them individually in the folder QGIS-files."
   ]
  },
  {
   "cell_type": "markdown",
   "id": "08c258ab-9005-4e00-b59f-4288bec709c3",
   "metadata": {},
   "source": [
    "## Data exploration and filtering"
   ]
  },
  {
   "cell_type": "markdown",
   "id": "ce076c04-85b5-435d-a38d-1f1714b6dd4e",
   "metadata": {},
   "source": [
    "In this tutorial we will work with wild fire data from [NASA FIRMS](firms.modaps.eosdis.nasa.gov). The data has been filtered to mainland Finland. \n",
    "\n",
    "Let's have a quick look at our data. The data is in csv-format, which means importing it to QGIS will require a bit of manual input."
   ]
  },
  {
   "cell_type": "markdown",
   "id": "70630c96-cee2-4d78-b47d-eb25efee2d22",
   "metadata": {},
   "source": [
    "<div style=\"background-color: #ccfbff; padding: 10px; border-left: 5px solid #41e4f0; margin-bottom: 10px;\">\n",
    "    \n",
    "- Open drop-down *Layer* > *Data source manager*. \n",
    "- Navigate to *Delimited text*.\n",
    "- Select *fire_data_for_map.csv* as the input file.\n",
    "- QGIS should autofill the fields. If not:\n",
    "    - Select Point coordinates\n",
    "    - X field: *LONGITUDE*\n",
    "    - Y field: *LATITUDE*\n",
    "    - CRS: EPSG:4326 - WGS84\n",
    "- Press *Add*.\n",
    "    \n",
    "</div>"
   ]
  },
  {
   "cell_type": "markdown",
   "id": "02b457aa-9001-4ca5-9ee7-f5c03f2279d2",
   "metadata": {},
   "source": [
    "Let's **reproject** the layer to a more sensible CRS for Finland and then **add a unique identifier** for each row – something our data currently lacks!"
   ]
  },
  {
   "cell_type": "markdown",
   "id": "a178b52d-bf6b-47eb-bb16-36d5e4c778be",
   "metadata": {},
   "source": [
    "<div style=\"background-color: #ccfbff; padding: 10px; border-left: 5px solid #41e4f0; margin-bottom: 10px;\">\n",
    "    \n",
    "1. Run **Reproject** and reproject the data to *EPSG:3067*.\n",
    "2. Run **Add autoincremental field** on *reprojected*. \n",
    "    \n",
    "</div>"
   ]
  },
  {
   "cell_type": "markdown",
   "id": "8b198d0a-d3f0-4265-a693-55794e883d40",
   "metadata": {},
   "source": [
    "### Temporal controller\n",
    "\n",
    "Start exploring the dataset. As usual, take a look at the attribute table and spatial distibution of values. Add a background map as needed.\n",
    "\n",
    "This time, our dataset includes a temporal field. We will use the temporal controller in QGIS to filter, visualize and animate temporal geodata."
   ]
  },
  {
   "cell_type": "markdown",
   "id": "df1868da-c7f1-4d22-ae8c-0356a0b7211b",
   "metadata": {},
   "source": [
    "<div style=\"background-color: #ccfbff; padding: 10px; border-left: 5px solid #41e4f0; margin-bottom: 10px;\">\n",
    "    \n",
    "- Open properties for *fire_data_for_map*, \n",
    "- Select the tab *Temporal*.\n",
    "    - Activate dynamic temporal control\n",
    "    - Configuration: *Single field with date/time*\n",
    "    - Field: *ACQ_DATE*\n",
    "    - Event duration: **1** AND **Month**\n",
    "    \n",
    "</div>"
   ]
  },
  {
   "cell_type": "markdown",
   "id": "cc247a69-6d92-4760-9399-47072dffd3ef",
   "metadata": {},
   "source": [
    "Notice that there's now a clock symbol next to *fire_data_for_map* in the layer list.\n",
    "\n",
    "Next, explore the dataset **temporally**."
   ]
  },
  {
   "cell_type": "markdown",
   "id": "da59a4d6-2ed5-4b68-a428-c92b6ddc90f4",
   "metadata": {},
   "source": [
    "<div style=\"background-color: #ccfbff; padding: 10px; border-left: 5px solid #41e4f0; margin-bottom: 10px;\">\n",
    "    \n",
    "- Activate the temporal controller panel from: *View* > *Panels* > *Temporal controller*.\n",
    "- In the temporal controller panel:\n",
    "    - From the top icons, select the third one from the left (*Animated temporal navigation*).\n",
    "    - Set *Animation range* with *Set to full range* (blue arrows)\n",
    "    - Animation step to *1* and *Week*.\n",
    "    - Play the animation.\n",
    "    \n",
    "</div>"
   ]
  },
  {
   "cell_type": "markdown",
   "id": "8ee78686-18e4-432e-8058-4f37127671d2",
   "metadata": {},
   "source": [
    "See how those observations flicker on and off the map in time with **when** they happened?\n",
    "\n",
    "There are a few oddities, though. Notice how there seems to be almost a constant stream of observations on the West Coast of Finland, near Oulu? As it turns out, that's where [Raahe steelworks](https://www.ssab.com/en/company/about-ssab/our-business/sites-all-over-the-world) is located. So, our data captures not only natural but also industrial heat signatures.\n",
    "\n",
    "### Filtering\n",
    "Let's filter them out using the polygon layer *corine_industrial_areas* – this includes all 839 [Corine land cover](https://data.europa.eu/data/datasets/-0b4b2fac-adf1-43a1-a829-70f02bf0c0e5-?locale=en) polygons with land use type 121 (*Industrial or commercial units*)."
   ]
  },
  {
   "cell_type": "markdown",
   "id": "f1f6111b-7223-49c2-882a-b5611d99cd03",
   "metadata": {},
   "source": [
    "<div style=\"background-color: #ccfbff; padding: 10px; border-left: 5px solid #41e4f0; margin-bottom: 10px;\">\n",
    "    \n",
    "1. Run the processing tool *Select within distance*.\n",
    "    - Parameters:\n",
    "        - Select features from the point layer using the polygon layer.\n",
    "        - Features are within **1000** meters.\n",
    "    - Why this tool? Some observations fall just outside the polygons; this lets us capture them.\n",
    "2. Then **invert the selection**. You will find the invert selection button ![invert selection icon](Figures/invert_selection_icon.png) on the attribute table.\n",
    "3. Then run the processing tool *Extract selected features*.\n",
    "    \n",
    "</div>"
   ]
  },
  {
   "cell_type": "markdown",
   "id": "23d250fa-6aa9-484a-996d-6238a4b6230b",
   "metadata": {},
   "source": [
    "With this trick, our observation count drops from 11,884 to 2426, but these should be a more accurate reflection of **wild** fires in Finland."
   ]
  },
  {
   "cell_type": "markdown",
   "id": "6d7e85ff-be62-4ed8-8832-1d30c30785e5",
   "metadata": {},
   "source": [
    "### DataPlotly: Interactive plots in QGIS"
   ]
  },
  {
   "cell_type": "markdown",
   "id": "8ea66346-4d1e-4f21-8330-6860cf8c227f",
   "metadata": {},
   "source": [
    "The simplest way to get a spatial overview of a dataset is to map it – for other explorations, other types of plots are more suitable. Natively, QGIS is not great at non-spatial plotting, but the great [DataPlotly](https://dataplotly-docs.readthedocs.io/en/latest/intro.html) plugin adds a host of standard plot types (bar, circle, histogram) that can be interactively explored within QGIS and added to output maps.\n",
    "\n",
    "Let's examine the filtered dataset in more detail by plotting it. If you want a visual guide at any point, refer to the video tutorial or this [official guide](https://dataplotly-docs.readthedocs.io/en/latest/basic_usage.html)."
   ]
  },
  {
   "cell_type": "markdown",
   "id": "370586e6-a554-47b6-b179-828353fca002",
   "metadata": {},
   "source": [
    "<div style=\"background-color: #ccfbff; padding: 10px; border-left: 5px solid #41e4f0; margin-bottom: 10px;\">\n",
    "    \n",
    "1. Launch a DataPlotly panel from its icon it the toolbar ![DataPlotly icon](Figures/dataplotly_icon.png)\n",
    "2. Select *Bar plot* as the plot type.\n",
    "3. Parameters: \n",
    "    - Layer: *Selected features* (or whichever is the latest layer in your processing chain).\n",
    "    - X field: `month(\"ACQ_DATE\")`\n",
    "        - month: *Extracts the month part from a date, or the number of months from an interval.*\n",
    "    - Y field: `count(\"AUTO\", month(\"ACQ_DATE\"))`\n",
    "        - We count the number of data point grouped by month.\n",
    "4. From the additional plot customizations ![DataPlotly customization icon](Figures/dataplotly_customizations_icon.png) tab:\n",
    "    - Bar mode: *Overlay*\n",
    "    - Feel free to change axis labels, text sizes etc.\n",
    "5. Press *Create plot*\n",
    "    - NB! If you make changes after creating a plot, remember to *Update plot*.\n",
    "    - NB2! You can draw multiple plots on the same canvas. If it starts looking weird, press *Clean plot canvas*.\n",
    "    \n",
    "</div>"
   ]
  },
  {
   "cell_type": "markdown",
   "id": "d52952c6-ce5f-498f-b5b3-c0baa20889f1",
   "metadata": {},
   "source": [
    "With that, you should see a plot a bit like this one:"
   ]
  },
  {
   "cell_type": "markdown",
   "id": "5ae51b05-c2f2-4345-bbde-5e7c3a8511d1",
   "metadata": {},
   "source": [
    "![Month bar plot](Figures/month_bar_plot.png)"
   ]
  },
  {
   "cell_type": "markdown",
   "id": "4866056b-4f73-4ccb-9195-080c12455b0c",
   "metadata": {},
   "source": [
    "Although the picture above is a static one, you can export interactive HTML plots, too."
   ]
  },
  {
   "cell_type": "markdown",
   "id": "5a5a4bb9-86b6-40d3-8af9-cf0f99302ad0",
   "metadata": {},
   "source": [
    "### Wild fire hexbin map"
   ]
  },
  {
   "cell_type": "markdown",
   "id": "9bc9c86c-83aa-455c-a00e-27c372677aca",
   "metadata": {},
   "source": [
    "Now that we have looked at the temporal distribution of the data, let's look at the spatial one. \n",
    "\n",
    "Starting off with a simple, non-temporal binned hexagon map – we've done these in the previous tutorials:"
   ]
  },
  {
   "cell_type": "markdown",
   "id": "e88952b2-9c20-43b3-bc59-8530e679d45d",
   "metadata": {},
   "source": [
    "<div style=\"background-color: #ccfbff; padding: 10px; border-left: 5px solid #41e4f0; margin-bottom: 10px;\">\n",
    "    \n",
    "1. Run the processing tool *Create grid*\n",
    "    - Parameters:\n",
    "        - Grid type: *Hexagon*\n",
    "        - Grid extent: *Calculate from layer > Selected features*\n",
    "        - Horizontal & vertical spacing: **25 kilometers**\n",
    "2. Run the processing tool *Count points in polygon* with *Selected features* and *Grid*.\n",
    "3. Run the processing tool *Extract by attribute* \n",
    "    - Parameters:\n",
    "        - Selection attribute: *NUMPOINTS*\n",
    "        - Operator: **>**\n",
    "        - Value: **0**\n",
    "            - In essence, we are removing cells with no wild fire observations.\n",
    "    \n",
    "</div>"
   ]
  },
  {
   "cell_type": "markdown",
   "id": "7bb2a02d-10b4-462b-b8ec-e4eee9fbec80",
   "metadata": {},
   "source": [
    "Next, style the grid layer with a graduated style. Then start layouting it.\n",
    "\n",
    "You may end up with something similar to this:"
   ]
  },
  {
   "cell_type": "markdown",
   "id": "e33c18c8-9f38-46d1-9c29-b5914df4fced",
   "metadata": {},
   "source": [
    "<div style=\"background-color: #8dfcbf; padding: 10px; border-left: 5px solid #11f276; margin-bottom: 10px;\">\n",
    "\n",
    "The hexbin layer uses the style:\n",
    "    \n",
    "- *wild_fire_hexbin_style.qml*\n",
    "    \n",
    "</div>"
   ]
  },
  {
   "cell_type": "markdown",
   "id": "fd7a9828-1de2-4ca8-94d0-32120036c2d0",
   "metadata": {},
   "source": [
    "![Wild fire hexbin map](Figures/wild_fire_hexbin_map.jpg)"
   ]
  },
  {
   "cell_type": "markdown",
   "id": "b1708de7-dbcd-4520-87d5-ce52b777bf87",
   "metadata": {},
   "source": [
    "The DataPlotly plugin allows us to add plots as layout items – notice the DataPlotly icon ![DataPlotly icon](Figures/dataplotly_icon.png) in the layout toolbar."
   ]
  },
  {
   "cell_type": "markdown",
   "id": "2b16dfb9-4128-44c0-9b79-c1eb431277d4",
   "metadata": {},
   "source": [
    "<div style=\"background-color: #ccfbff; padding: 10px; border-left: 5px solid #41e4f0; margin-bottom: 10px;\">\n",
    "    \n",
    "1. Add a plot item.\n",
    "2. Start modifying it by clicking on the item and pressing *Setup selected plot*.\n",
    "    1. Unfortunately, we will have to replicate what we did above. **Create the bar plot of wild fires aggregated by month per the instructions above**.\n",
    "    2. **Optionally, create another plot**. The map above includes another box plot that uses the 'latitude' field to show the distribution of wild fire observations.\n",
    "        - X field: `round(\"LATITUDE\", 0)`\n",
    "            - Latitude values rounded up to the nearest integer.\n",
    "        - Y field: `count(\"AUTO\", round(\"LATITUDE\", 0))`\n",
    "</div>"
   ]
  },
  {
   "cell_type": "markdown",
   "id": "c9bf6242-c581-428f-8a52-a85943c7790c",
   "metadata": {},
   "source": [
    "<div style=\"background-color: #8dfcbf; padding: 10px; border-left: 5px solid #11f276; margin-bottom: 10px;\">\n",
    "\n",
    "The hexbin layer uses the style:\n",
    "    \n",
    "- *wild_fire_hexbin_style.qml*\n",
    "    \n",
    "</div>"
   ]
  },
  {
   "cell_type": "markdown",
   "id": "298dc5ab-2820-4aac-89e1-2a2051f28088",
   "metadata": {},
   "source": [
    "![Wild fire dataplotly map](Figures/wild_fire_dataplotly_map.jpg)"
   ]
  },
  {
   "cell_type": "markdown",
   "id": "fe04eb39-3376-4b97-b8c8-0420e3ae45a3",
   "metadata": {},
   "source": [
    "By combining maps and plots, we can communicate more information about our topic. With a different dataset, we could expand to other plot types, such as scatter plots, and show relations between our values. Of course, it's wise not to overload the reader with information. Do keep visual hierarchy and other cartographic principles in mind if adding plots to your maps. "
   ]
  },
  {
   "cell_type": "markdown",
   "id": "2020c39b-80b3-4b5f-9af0-037e70a24c8b",
   "metadata": {},
   "source": [
    "## Making an animated map"
   ]
  },
  {
   "cell_type": "markdown",
   "id": "bdfca84d-df48-4fd7-868f-819e4b4cfbb7",
   "metadata": {},
   "source": [
    "The additional elements in our map are cool, but the output map is still static. With the temporal controller we enabled previously, we can actually export temporal snapshots as frames for an animated map."
   ]
  },
  {
   "cell_type": "markdown",
   "id": "b2c97e71-995b-44cf-8991-044e9c8bc780",
   "metadata": {},
   "source": [
    "Work with the latest, filtered version of the data (run the processing model to get the filtered data, if needed)."
   ]
  },
  {
   "cell_type": "markdown",
   "id": "48dae7d3-d9af-4b27-aa73-c88faa92b454",
   "metadata": {},
   "source": [
    "<div style=\"background-color: #ccfbff; padding: 10px; border-left: 5px solid #41e4f0; margin-bottom: 10px;\">\n",
    "    \n",
    "- Set the layer as temporal. Easiest way to do this is to copy all style categories from *fire_data_for_map*, since we setup the temporal features for that layer previously.\n",
    "    \n",
    "</div>"
   ]
  },
  {
   "cell_type": "markdown",
   "id": "b891a4f2-9dea-4dfd-b430-76750eca315f",
   "metadata": {},
   "source": [
    "You should see wild fires popping up as points on the map. They're fine, but we can do more to make the map visually interesting. Let's start styling."
   ]
  },
  {
   "cell_type": "markdown",
   "id": "fbd510e5-eb86-4637-b9fb-ed1a229194fe",
   "metadata": {},
   "source": [
    "<div style=\"background-color: #ccfbff; padding: 10px; border-left: 5px solid #41e4f0; margin-bottom: 10px;\">\n",
    "    \n",
    "1. Start editing the temporal layer style.\n",
    "2. Activate *data-defined override > Assistant* for symbol **Size**.\n",
    "    - This opens a new tab. Here, we can define the override values a bit more visually compared to the expressions we've used in previous tutorials.\n",
    "3. **Parameters**:\n",
    "    - Source:  `day(to_date( @map_start_time) - \"ACQ_DATE\")`\n",
    "        - A lot is happening in this expression. Basically, we are returning the date difference from the current date on the temporal controller (@map_start_time) to the event date.\n",
    "    - Values... (input values, in this case the date difference. The minimum date difference is 1 and the maximum a month)\n",
    "        - From: **1**\n",
    "        - To: **30**\n",
    "    - Output size... (symbol size in millimeters)\n",
    "        - From: **1**\n",
    "        - To: **6**\n",
    "    \n",
    "</div>"
   ]
  },
  {
   "cell_type": "markdown",
   "id": "c432b5a3-d601-4f2d-bd3f-23fa0f9d14ff",
   "metadata": {},
   "source": [
    "Now you should see the symbol slowly get larger before disappearing."
   ]
  },
  {
   "cell_type": "markdown",
   "id": "a5fbd19f-8861-4d1c-ba29-3be1ee1eb5d0",
   "metadata": {},
   "source": [
    "<div style=\"background-color: #ccfbff; padding: 10px; border-left: 5px solid #41e4f0; margin-bottom: 10px;\">\n",
    "    \n",
    "- You may fine-tune the size over time even further by activating **Apply transform curve**. \n",
    "    - Think of **X-axis as time** and **Y-axis as size**. For example, this curve makes the points appear at full size quickly, linger for a while and the start to disappear.\n",
    "    \n",
    "![Transform curve size](Figures/transform_curve_size.png)\n",
    "    \n",
    "</div>"
   ]
  },
  {
   "cell_type": "markdown",
   "id": "db0f8e66-472b-4015-b376-9c256ceec5b6",
   "metadata": {},
   "source": [
    "We can keep fine-tuning the style:"
   ]
  },
  {
   "cell_type": "markdown",
   "id": "a5aa7f87-cb8c-441e-acd5-85ef14676730",
   "metadata": {},
   "source": [
    "<div style=\"background-color: #ccfbff; padding: 10px; border-left: 5px solid #41e4f0; margin-bottom: 10px;\">\n",
    "    \n",
    "- Apply the same data-defined overrides to **Opacity**\n",
    "- This is how an example transform curve for opacity looks like:\n",
    "    \n",
    "![Transform curve opacity](Figures/transform_curve_opacity.png)\n",
    "    \n",
    "</div>"
   ]
  },
  {
   "cell_type": "markdown",
   "id": "474cdd51-d264-4da4-b342-60089d73edf3",
   "metadata": {},
   "source": [
    "Then just to style the symbols. Red makes a lot of sense for fire, right?\n",
    "\n",
    "You ought to see something like this on the map window:"
   ]
  },
  {
   "cell_type": "markdown",
   "id": "ec4a2764-d4a0-4b21-b1ff-4c0a6a357ebe",
   "metadata": {},
   "source": [
    "<div style=\"background-color: #8dfcbf; padding: 10px; border-left: 5px solid #11f276; margin-bottom: 10px;\">\n",
    "\n",
    "The point layer uses the style:\n",
    "    \n",
    "- *wild_fire_temporal_point_style.qml*\n",
    "    \n",
    "</div>"
   ]
  },
  {
   "cell_type": "markdown",
   "id": "0cecbb9c-d0d0-40a7-9fd7-583d51010aae",
   "metadata": {},
   "source": [
    "![Short animation](Figures/short_anim.gif)"
   ]
  },
  {
   "cell_type": "markdown",
   "id": "4841fc9e-00ef-4b97-a8f4-b7c0c929ad61",
   "metadata": {},
   "source": [
    "### Animation export"
   ]
  },
  {
   "cell_type": "markdown",
   "id": "b7533a91-fea1-4597-9846-8972c9a029e7",
   "metadata": {},
   "source": [
    "The temporal map work a bit differently than regular map layouting and outputting: we have to export directly from the map window! That also means that we don't have access to the regural tools (text boxes, scale bars, north arrows)."
   ]
  },
  {
   "cell_type": "markdown",
   "id": "e8524d19-5de0-49b4-8105-58f1aeeafffe",
   "metadata": {},
   "source": [
    "First, it's wise to treat the map window as your layout page. Therefore, try to move the other panels and the map window scale so that the map content is well placed. For example:"
   ]
  },
  {
   "cell_type": "markdown",
   "id": "0c370eb2-70c2-4b7f-93ca-dc39e8646939",
   "metadata": {},
   "source": [
    "![Map window as the layout page](Figures/map_window_as_layout.png)"
   ]
  },
  {
   "cell_type": "markdown",
   "id": "9a402503-ef0c-4c61-ab65-0b2effd041b3",
   "metadata": {},
   "source": [
    "### Decorations\n",
    "Luckily, we can add something called decorations on the map window itself and export them with the animation frames. They're not as flexible as the layouting tools, but will do the job.\n",
    "\n",
    "Let's add a \"title\"."
   ]
  },
  {
   "cell_type": "markdown",
   "id": "18d8dd58-0df7-4e61-9336-b8981171f220",
   "metadata": {},
   "source": [
    "<div style=\"background-color: #ccfbff; padding: 10px; border-left: 5px solid #41e4f0; margin-bottom: 10px;\">\n",
    "\n",
    "1. Click *View > Decorations > Title label*\n",
    "2. Enable the title and write something in the text box, e.g. `Wild fires in Finland 2012–2022`.\n",
    "\n",
    "</div>"
   ]
  },
  {
   "cell_type": "markdown",
   "id": "c2b8ed13-046e-41a4-857b-5e1317c759e8",
   "metadata": {},
   "source": [
    "This adds a rather ugly block on top of the map window. Let's fix that and move the text to a better location."
   ]
  },
  {
   "cell_type": "markdown",
   "id": "312dee21-90dc-4cad-84bf-1fc6ab201242",
   "metadata": {},
   "source": [
    "<div style=\"background-color: #ccfbff; padding: 10px; border-left: 5px solid #41e4f0; margin-bottom: 10px;\">\n",
    "\n",
    "1. Increase font size.\n",
    "2. Make the bar color transparent.\n",
    "3. Placement: *Top right*\n",
    "4. Margin from edge:\n",
    "    - Horizontal: **25**\n",
    "    - Vertical: **25**\n",
    "\n",
    "</div>"
   ]
  },
  {
   "cell_type": "markdown",
   "id": "5de20f34-a50b-4c77-9c1b-e8fb9c91b095",
   "metadata": {},
   "source": [
    "### Timestamp\n",
    "Our animation is rather hard to interpret without knowing which date it is currently showing. Thankfully, we can code in a dynamic timestamp that gets inserted in the output frames."
   ]
  },
  {
   "cell_type": "markdown",
   "id": "3f7bc376-0255-49fa-a9aa-34c32dc9cc1b",
   "metadata": {},
   "source": [
    "<div style=\"background-color: #ccfbff; padding: 10px; border-left: 5px solid #41e4f0; margin-bottom: 10px;\">\n",
    "\n",
    "1. Edit the **title label** text with *Insert or edit an Expression*.\n",
    "2. Paste `concat('Wild fires in\\n',   format_date(@map_start_time, 'MMM. yyyy' ))`\n",
    "    - concat: Combines multiple strings into one.\n",
    "    - format_date: Transforms the input date field into another format. Here, we tell it to output months as three character versions (e.g. Feb.) and years.\n",
    "    - @map_start_time: A variable with the Temporal controller's current date.\n",
    "\n",
    "</div>"
   ]
  },
  {
   "cell_type": "markdown",
   "id": "566412de-d922-48f8-a0bb-6481cd3705a6",
   "metadata": {},
   "source": [
    "### Styling\n",
    "Style the rest of the map to your liking. In the example map:\n",
    "\n",
    "- The OSM background map is too noisy to my liking for this map. Replaced with a generic outline of the country:\n",
    "    - Added a world map by typing 'world' to the coordinate field.\n",
    "    - Duplicated it.\n",
    "    - Filtered one of them with `\"NAME\" IN ('Russia','Sweden','Norway', 'Estonia')`\n",
    "    - Another one with `\"NAME\" = 'Finland'`\n",
    "    - Colored both with grey.\n",
    "- A copyright label decoration was added with data credits.\n"
   ]
  },
  {
   "cell_type": "markdown",
   "id": "5cb74735-3161-4f73-b9b9-4b9f883f7a92",
   "metadata": {},
   "source": [
    "### Export an animation"
   ]
  },
  {
   "cell_type": "markdown",
   "id": "2d379fb3-08ef-450c-b430-0bfa0563eddc",
   "metadata": {},
   "source": [
    "Then it's finally time to export the animation frames!"
   ]
  },
  {
   "cell_type": "markdown",
   "id": "0757b624-468c-40b3-b419-b9ac3d7fc4e7",
   "metadata": {},
   "source": [
    "<div style=\"background-color: #ccfbff; padding: 10px; border-left: 5px solid #41e4f0; margin-bottom: 10px;\">\n",
    "\n",
    "1. In the temporal controller press *Export animation* (the 'save' icon).\n",
    "2. Parameters:\n",
    "    - Template: wildfire_map_####.jpg\n",
    "        - Be sure to change the file type to **jpg** to save space.\n",
    "        - The hash signs will be replaced with an incremental number (0000, 0001...). This ensures the files are ordered.\n",
    "    - Output directory: **have an empty folder for this**\n",
    "    - Map settings:\n",
    "        - Extent: *Map canvas extent*, or whatever you choose.\n",
    "        - Draw active decorations: **Enable**\n",
    "    - Temporal settings:\n",
    "        - Range: Full range, or choose a shorter period.\n",
    "        - Step: 1 weeks (or shorter for a more fluid animation but way more frames -> bigger file size).\n",
    "\n",
    "</div>"
   ]
  },
  {
   "cell_type": "markdown",
   "id": "ad2e08d7-bc28-4fdf-a842-10c0a8e06917",
   "metadata": {},
   "source": [
    "After rendering the frames as a video, here's how our animation ended up. \n",
    "\n",
    "It's being rendered as a *.gif* to ensure it's visible in the notebook – for better quality, a video file format like *.mp4* is preferable!"
   ]
  },
  {
   "cell_type": "markdown",
   "id": "8a2d4885-98b9-4385-b503-a386e024cc05",
   "metadata": {},
   "source": [
    "![Long wild fire animation](Figures/long_anim.gif)"
   ]
  },
  {
   "cell_type": "markdown",
   "id": "04632ee9-132a-4681-bdad-fda9af2c0571",
   "metadata": {},
   "source": [
    "### Render animation frames as a video\n",
    "Sadly, QGIS doesn't support rendering the exported images as an video. There are multiple free and open-source tools for that purpose. \n",
    "\n",
    "Below are a few methods listed in the order of simplicity:\n",
    "\n",
    "- [ffmpeg](https://ffmpeg.org/): A very comprehensive command line tool for all things video. [See here](https://stackoverflow.com/questions/24961127/how-to-create-a-video-from-images-with-ffmpeg) for how to render an image sequence as a video. \\[Complex\\]\n",
    "- [Shotcut](https://shotcut.org/): A FOSS video editor. [Instructions](https://forum.shotcut.org/t/image-sequences-import/35) \\[Fairly straightforward\\]\n",
    "- Online tools, such as [EZGIF](https://ezgif.com/webp-maker). \\[Very easy to use, might lack flexibility\\]"
   ]
  },
  {
   "cell_type": "markdown",
   "id": "f0d63b7e-1342-4881-9b41-14cb41697d39",
   "metadata": {},
   "source": [
    "The map you see above was rendered to mp4 in Shotcut with one picture staying for 2 frames at 25 frames per second."
   ]
  },
  {
   "cell_type": "markdown",
   "id": "91169b9d-b907-4478-a533-e6e50857ab1c",
   "metadata": {},
   "source": [
    "**Stretch goal**\n",
    "\n",
    "Notice how the map above only visualizes single observations nor does it visualize the severity of the fire (area covered, duration).\n",
    "\n",
    "If you'd like to dig deeper, you could cluster wild fire observations close by spatially and temporally with *ST-DBSCAN clustering*. This returns attribute information on which cluster each point falls into, after which the points could be aggregated (*Aggregate*). Finally, a single coordinate point for the clusters can be extracted with *Centroids*. Then, visualize these centroids."
   ]
  },
  {
   "cell_type": "markdown",
   "id": "6e8b6345-ab64-46a6-87d6-bb22480cb983",
   "metadata": {},
   "source": [
    "## Replicating the processing flow of this notebook\n",
    "To replicate this processing flow, run the processing model *wildfire-preprocessing-model.model3*. **NB!** This model will filter and style the data. Many of the steps in this tutorial require manual input – for example, creating the DataPlotly plots and exporting animation frames.\n",
    "\n",
    "You will need to add the example data and have the style files shared in the folder QGIS-files at the ready to run the model. Please also note that this model includes some hard-coded field-names (as do most of these models!). They are meant for replicating this notebook, and repurposing them for general use might require some modifications."
   ]
  },
  {
   "cell_type": "markdown",
   "id": "a816f0b5-8367-43cf-aa07-ac281a621e67",
   "metadata": {},
   "source": [
    "![Wild fire preprocessing model](Figures/wildfire_preprocessing_model.png)"
   ]
  }
 ],
 "metadata": {
  "kernelspec": {
   "display_name": "Python 3 (ipykernel)",
   "language": "python",
   "name": "python3"
  },
  "language_info": {
   "codemirror_mode": {
    "name": "ipython",
    "version": 3
   },
   "file_extension": ".py",
   "mimetype": "text/x-python",
   "name": "python",
   "nbconvert_exporter": "python",
   "pygments_lexer": "ipython3",
   "version": "3.11.7"
  }
 },
 "nbformat": 4,
 "nbformat_minor": 5
}
